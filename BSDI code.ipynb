{
 "cells": [
  {
   "cell_type": "code",
   "execution_count": null,
   "id": "63b808b2-4438-4688-b8e5-a90bef928156",
   "metadata": {},
   "outputs": [],
   "source": [
    "import numpy as np\n",
    "import pandas as pd\n",
    "\n",
    "class BSDICalculator:\n",
    "    def __init__(self, data, indicators, invert_flags=None):\n",
    "        \"\"\"\n",
    "        Parameters:\n",
    "        - data: pd.DataFrame containing the variables.\n",
    "        - indicators: list of column names to be used for BSDI (e.g., ['RGDP', 'EnvHealth', 'Population', 'Groundwater']).\n",
    "        - invert_flags: list of booleans indicating which indicators should be inversely normalized (default: False for all).\n",
    "        \"\"\"\n",
    "        self.data = data.copy()\n",
    "        self.indicators = indicators\n",
    "        self.invert_flags = invert_flags if invert_flags else [False] * len(indicators)\n",
    "        self.normalized_data = pd.DataFrame()\n",
    "\n",
    "    def normalize_column(self, column, invert=False):\n",
    "        series = self.data[column].astype(float)\n",
    "        v_min = series.min()\n",
    "        v_max = series.max()\n",
    "        if v_max == v_min:\n",
    "            return pd.Series([1.0] * len(series), index=series.index)\n",
    "        norm = (v_max - series) / (v_max - v_min) if invert else (series - v_min) / (v_max - v_min)\n",
    "        return norm.clip(0, 1)\n",
    "\n",
    "    def compute_normalized_indicators(self):\n",
    "        for col, inv in zip(self.indicators, self.invert_flags):\n",
    "            self.normalized_data[col] = self.normalize_column(col, invert=inv)\n",
    "\n",
    "    def compute_bsdi(self):\n",
    "        self.compute_normalized_indicators()\n",
    "        product = self.normalized_data.prod(axis=1)\n",
    "        bsdi = np.sqrt(product)\n",
    "        return bsdi\n",
    "\n",
    "    def run(self):\n",
    "        bsdi = self.compute_bsdi()\n",
    "        result_df = self.data.copy()\n",
    "        result_df['BSDI'] = bsdi\n",
    "        return result_df\n",
    "\n",
    "\n"
   ]
  }
 ],
 "metadata": {
  "kernelspec": {
   "display_name": "Python 3 (ipykernel)",
   "language": "python",
   "name": "python3"
  },
  "language_info": {
   "codemirror_mode": {
    "name": "ipython",
    "version": 3
   },
   "file_extension": ".py",
   "mimetype": "text/x-python",
   "name": "python",
   "nbconvert_exporter": "python",
   "pygments_lexer": "ipython3",
   "version": "3.11.5"
  }
 },
 "nbformat": 4,
 "nbformat_minor": 5
}
